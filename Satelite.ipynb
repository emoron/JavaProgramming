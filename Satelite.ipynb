{
 "cells": [
  {
   "cell_type": "markdown",
   "metadata": {},
   "source": [
    "## Velocidad de un Satellite\n",
    "\n",
    "La velocidad de un satelite circunavegando alrededor de la tierra se calcula por la formula\n",
    "\n",
    "$$ v = \\sqrt{\\frac{GMe}{r}} $$\n",
    "\n",
    "Donde $$ Me = 5.98 x 10 ^{ 24} $$ es la masa de la tierra, $$r $$ es la distancia del centro de la tierra al satelite en metros, y $$G = 6.67 x 10^{-11} m3 / kg* s^2 $$ es la constante gravitacional. La unidad de velocidad es m/s. Escriba un programa que introduzca el radio r y nos de la salida de la velocidad del satelite. Confirme que si el satelite  esta mas cerca a la tierra viajara mas rapido. Defina la constante simbolica Me y G. La distancia al telescopio Hubble desde el centro de la tierra es aproximadamente 6.98x10^{6} m."
   ]
  },
  {
   "cell_type": "code",
   "execution_count": null,
   "metadata": {
    "collapsed": true
   },
   "outputs": [],
   "source": []
  }
 ],
 "metadata": {
  "kernelspec": {
   "display_name": "Python 2",
   "language": "python",
   "name": "python2"
  }
 },
 "nbformat": 4,
 "nbformat_minor": 0
}
